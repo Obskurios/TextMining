{
 "cells": [
  {
   "cell_type": "markdown",
   "metadata": {},
   "source": [
    "### Importy bibliotek"
   ]
  },
  {
   "cell_type": "code",
   "execution_count": null,
   "metadata": {},
   "outputs": [],
   "source": [
    "import os\n",
    "import json\n",
    "import string\n",
    "import morfeusz2\n",
    "import numpy as np\n",
    "import pandas as pd\n",
    "import operator as op\n",
    "import itertools as it\n",
    "from wordcloud import WordCloud\n",
    "from matplotlib import pyplot as plt\n",
    "from nltk.util import ngrams\n",
    "from nltk.tokenize import word_tokenize\n",
    "from nltk.corpus import PlaintextCorpusReader\n",
    "from scipy.cluster.hierarchy import dendrogram\n",
    "from sklearn.cluster import AgglomerativeClustering\n",
    "from sklearn.decomposition import LatentDirichletAllocation, NMF\n",
    "from sklearn.metrics.pairwise import cosine_similarity, euclidean_distances\n",
    "from sklearn.feature_extraction.text import CountVectorizer, TfidfVectorizer\n"
   ]
  },
  {
   "cell_type": "markdown",
   "metadata": {},
   "source": [
    "1. Utworzenie korpusu dokumentów"
   ]
  },
  {
   "cell_type": "code",
   "execution_count": 9,
   "metadata": {},
   "outputs": [
    {
     "data": {
      "text/plain": [
       "['7 Krolestw- Karmazynowa Korona.txt',\n",
       " '7 Krolestw- Krol Demon.txt',\n",
       " '7 Krolestw- Tron Szarych Wilkow.txt',\n",
       " '7 Krolestw- Wygnana Krolowa.txt',\n",
       " 'Diuna - Bog Imperator.txt',\n",
       " 'Diuna - Dzieci.txt',\n",
       " 'Diuna - Heretycy.txt',\n",
       " 'Diuna - Kapitularz.txt',\n",
       " 'Diuna - Mesjasz.txt',\n",
       " 'Diuna.txt',\n",
       " 'Kataklizm.txt',\n",
       " 'Ognisty Boj.txt',\n",
       " 'Saga Burzowego Archiwum - Droga Krolow.txt',\n",
       " 'Saga Burzowego Archiwum - Slowa Swiatlosci.txt',\n",
       " 'Saga Burzowego Archiwum -Dawca Przysiegi.txt',\n",
       " 'Saga Burzowego Archiwum -Przysiega Krolowej.txt',\n",
       " 'Stalowe Serce.txt',\n",
       " 'Władca Pierscieni - Druzyna Pierscienia.txt',\n",
       " 'Władca Pierscieni - Dwie Wieze.txt',\n",
       " 'Władca Pierscieni - Powrot Krola.txt']"
      ]
     },
     "execution_count": 9,
     "metadata": {},
     "output_type": "execute_result"
    }
   ],
   "source": [
    "corpus_dir = \"./literatura\"\n",
    "corpus = PlaintextCorpusReader(corpus_dir, \".*\\.txt\")\n",
    "files = corpus.fileids()\n",
    "files"
   ]
  },
  {
   "cell_type": "markdown",
   "metadata": {},
   "source": [
    "2. Wstępne przygotowanie dokumentów"
   ]
  },
  {
   "cell_type": "code",
   "execution_count": 10,
   "metadata": {},
   "outputs": [
    {
     "name": "stdout",
     "output_type": "stream",
     "text": [
      "{\n",
      "    \"7 Krolestw- Karmazynowa Korona.txt\": \"Po koronacji Raisa staje się królową królestwa podzielonego i pogrążonego w niepokojach. Bayarowie, mimo porażek, wciąż próbują zdominować Wizard Council. Han jako oficjalny doradca królowej zyskuje coraz więcej wpływów, ale musi stawić czoła nie tylko magii, lecz również dworskim intrygom i nieufności Clans.\\r\\n\\r\\nRaisa walczy z presją politycznych małżeństw oraz zagrożeniami zewnętrznymi – sąsiednie królestwa planują inwazję, a wewnętrzne napięcia grożą wojną domową. Tymczasem Han odkrywa prawdę o początkach konfliktu sprzed tysiąca lat, o Królowej Wilka i Demon Kingu, których losy okazują się powiązane z nim i Raisą. Legenda i historia zaczynają splatać się z teraźniejszością.\\r\\n\\r\\nW obliczu zbliżającego się konfliktu Raisa i Han muszą zjednoczyć królestwo. Ich osobiste uczucia zostają wystawione na próbę, a decyzje polityczne zagrażają ich przyszłości. Han, posługując się zarówno magią, jak i strategiami politycznymi, demaskuje zdradę wewnątrz Wizard Council i staje do walki o nowy porządek.\\r\\n\\r\\nW kulminacyjnym finale Raisa decyduje się nie oddać serca żadnemu z możnych rodów, ale wybrać miłość, lojalność i sprawiedliwość. Han, rezygnując z zemsty, przyjmuje swoją rolę jako odnowiciel równowagi między magią a Clanami. Historia kończy się zjednoczeniem królestwa i zapowiedzią nowej ery, w której przeszłość, magia i polityka zostają splecione w jedno przez dwoje młodych przywódców gotowych ponieść ciężar władzy i pokoju.\",\n",
      "    \"7 Krolestw- Krol Demon.txt\": \"Han Alister, szesnastoletni były przywódca ulicznego gangu Łasic z Ragmarketu, stara się prowadzić uczciwe życie, wspierając swoją matkę Marię i młodszą siostrę. Jego życie komplikuje się, gdy podczas jednej z wypraw w góry natrafia na grupę czarodziejów pod dowództwem młodego i aroganckiego Micaha Bayara. Dochodzi do konfrontacji, w wyniku której Han przejmuje starożytny, niezwykle potężny amulet. Z początku nie zna jego pochodzenia, lecz szybko odkrywa, że artefakt należał niegdyś do legendarnego Króla Demonów, czarnoksiężnika, który przed tysiącem lat niemal doprowadził do upadku całego świata. Od tego momentu życie Hana staje się nieustanną ucieczką przed Bayarami i ich śmiercionośnymi ambicjami.\\r\\n\\r\\nRównolegle w królestwie Fells młoda księżniczka Raisa ana'Marianna powraca na królewski dwór w Fellsmarch po długim pobycie w obozie Demonai, gdzie trenowała umiejętności przetrwania i walki. Na dworze zastaje sytuację krytyczną: matka, królowa Marianna, ulega wpływom Wielkiego Magistra Gavan Bayara, a lud cierpi z powodu głodu i niesprawiedliwości. Raisa, niegodząca się na polityczne układy i naciski, stara się poznać prawdziwe potrzeby swoich poddanych.\\r\\n\\r\\nDrogi Hana i Raisy zaczynają się zbliżać, choć jeszcze się nie znają. On, wplątany w walkę o przetrwanie, powoli odkrywa swoje dziedzictwo i związek z dawnymi czasami, ona – świadoma ciążącego na niej obowiązku wobec królestwa – uczy się, że korona nie daje ochrony, lecz czyni z niej cel. Oboje zmierzają ku Oden’s Ford, miejscu nauki i schronienia, choć jeszcze nie wiedzą, jak ich losy się splecie.\",\n",
      "    \"7 Krolestw- Tron Szarych Wilkow.txt\": \"Wraz z końcem zimy Raisa opuszcza Oden’s Ford i rusza przez góry ku Fellsmarch, jednak w drodze zostaje wielokrotnie zaatakowana. Uratowana przez Hana Alistera, odkrywa, że on również zmierza do stolicy, aby objąć rolę doradcy w Wizard Council. Han, dowiedziawszy się o prawdziwej tożsamości Raisy, czuje się zdradzony, ale postanawia jej pomóc.\\r\\n\\r\\nW Fellsmarch napięcia osiągają punkt krytyczny. Clans grożą zerwaniem Traktatu Niebiańskiego, magowie knują zamach stanu, a Raisa zostaje zmuszona do natychmiastowego objęcia tronu po śmierci jej matki. Gdy jej koronacja zostaje przesunięta przez intrygi Bayarów, Han, korzystając ze swojej pozycji i magicznej siły, przeciwdziała zakusom Gavana Bayara.\\r\\n\\r\\nRelacja między Raisą a Hanem zostaje wystawiona na próbę – różnice pochodzenia, polityczne obowiązki i duch przeszłości nie dają im spokoju. Mimo to oboje zdają sobie sprawę, że przyszłość Queendom of the Fells zależy od ich współpracy. Han coraz głębiej odkrywa prawdę o swoim dziedzictwie i pochodzeniu amuletu, który nosi, a Raisa stara się odbudować autorytet Korony.\",\n",
      "    \"7 Krolestw- Wygnana Krolowa.txt\": \"Han i Raisa, niezależnie od siebie, trafiają do Oden’s Ford. Han, poszukiwany i zagrożony przez Bayarów, zostaje uczniem w Mystwerk House, gdzie rozpoczyna naukę magii pod okiem tajemniczego ducha Crowa, który oferuje mu wiedzę w zamian za wspomnienia. Przeżywa tam zarówno próby zamachu, jak i zdrady, ucząc się nie tylko zaklęć, ale także polityki i kontroli.\\r\\n\\r\\nRaisa, uciekając przed wymuszonym małżeństwem i zdradą na dworze, przyjmuje tożsamość Rebeki Morley. Wstępuje do Wein House, akademii kształcącej przyszłych żołnierzy i oficerów, by zdobyć potrzebne jej umiejętności przywódcze. Na jej trop wpada Amon Byrne, jej dawny przyjaciel i nowy kapitan Gwardii Królewskiej, który dołącza do niej jako obrońca. Wraz z nim Raisa stara się powrócić do Fellsmarch jako gotowa do objęcia tronu następczyni.\\r\\n\\r\\nHan i Raisa spotykają się w Oden’s Ford, nie znając do końca swojej tożsamości. Ich więź się zacieśnia, rodzi się uczucie, ale prawda o pochodzeniu Raisy oraz obowiązki, które czekają na nich po powrocie do królestwa, stają się przeszkodami. Tymczasem Gavan Bayar i jego syn Micah kontynuują swoje plany podporządkowania tronu magii, zagrażając życiu Raisy i bezpieczeństwu Clans.\",\n",
      "    \"Diuna - Bog Imperator.txt\": \"Leto II Atryda rządzi jako Bóg Imperator od ponad trzech tysięcy lat. Jego ciało zostało niemal całkowicie przekształcone – jest teraz hybrydą człowieka i piaskowego czerwia. Jego panowanie to czas stagnacji, pokoju i kontroli – \\\"Złota Droga\\\" mająca uchronić ludzkość przed samounicestwieniem.\\r\\n\\r\\nMimo absolutnej władzy, Leto II odczuwa samotność i ciężar swojego poświęcenia. Rządzi poprzez terror, ograniczając wolność i rozwój, ale jest przekonany, że jego działania są jedynym sposobem na zapewnienie przetrwania gatunku ludzkiego.\\r\\n\\r\\nW międzyczasie pojawia się Duncan Idaho – kolejny ghola, który jak jego poprzednicy staje się powiernikiem Leto. Leto zakochuje się w Hwi Noree, kobiecie zaprojektowanej przez Bene Tleilax jako idealna partnerka, ale uczucie to prowadzi do jego zguby.\\r\\n\\r\\nW wyniku rebelii zorganizowanej przez Duncana i Sionaę, potomkinię Fremenów, Leto ginie – jego śmierć kończy epokę tyranii, ale także uwalnia ludzi spod jego opieki. Piaskowe czerwie powracają na Arrakis, a ludzkość wchodzi w okres rozproszenia, zwany Wielkim Rozsiewem.\",\n",
      "    \"Diuna - Dzieci.txt\": \"Po odejściu Paula Arrakisem rządzi Alia, teraz formalnie regentka dla jego dzieci, Leto II i Ghanimy. Jednak Alia stopniowo ulega korupcji – jej świadomość zostaje opanowana przez \\\"wewnętrznego głosu\\\" barona Harkonnena, jej dziadka, którego genetyczne wspomnienia przejęła poprzez rytuały Bene Gesserit.\\r\\n\\r\\nLeto II, obdarzony podobnymi zdolnościami jak ojciec, dostrzega przyszłość imperium i grożące mu zagrożenia. Wraz z siostrą Ghanimą stara się ukryć swoje wizje i zdolności przed Alią i jej doradcami, wiedząc, że ich wiedza może być niebezpieczna.\\r\\n\\r\\nZakon Bene Gesserit i Fremenowie są coraz bardziej podzieleni. Leto podejmuje dramatyczną decyzję – wchodzi w symbiozę z piaskowymi traperami, zmieniając swoje ciało i stając się istotą niemal nieśmiertelną. Jego przemiana ma zapewnić przetrwanie ludzkości przez nadchodzące tysiąclecia, kosztem jego człowieczeństwa.\\r\\n\\r\\nAlia popełnia samobójstwo, nie mogąc dłużej walczyć z wewnętrznym głosem barona. Leto II przejmuje władzę jako Dziecię Boga-Cesarza, mając przed sobą wizję długiej, trudnej przyszłości, w której będzie przewodził ludzkości jako strażnik jej przetrwania.\",\n",
      "    \"Diuna - Heretycy.txt\": \"Po tysiącleciach od śmierci Leto II ludzkość rozproszyła się po wszechświecie. Imperium jest podzielone, a władza należy do zakonu Bene Gesserit, który próbuje przywrócić równowagę. Główne zagrożenie stanowią Scytale, ostatni z Tleilaxan, oraz tajemnicze Matki Honory, brutalna i ekspansywna frakcja kobiet z Wielkiego Rozsiewu.\\r\\n\\r\\nBene Gesserit szkolą nową adeptkę, Sheeanę, dziewczynkę z planety Rakis, która potrafi przywoływać i kontrolować piaskowe czerwie. Matre Taraza i Matka Przełożona Darwi Odrade próbują wykorzystać Sheeanę jako symbol odrodzenia Arrakis.\\r\\n\\r\\nTymczasem Duncan Idaho zostaje odtworzony jako kolejny ghola. Jego losy ponownie splatają się z zakonem i tajemniczym planem przetrwania ludzkości. Przemiany Rakis oraz odkrycie nowych form życia i myśli prowadzą do wielkiego konfliktu między starym a nowym porządkiem.\",\n",
      "    \"Diuna - Kapitularz.txt\": \"Bene Gesserit, z pomocą Odrade i gholi Duncana Idaho, kontynuują walkę z Matkami Honory. Zakon przenosi swoją główną siedzibę na planetę Kapitularz. Matki Honory, coraz bardziej agresywne i zdeterminowane, pragną zniszczyć Bene Gesserit i całkowicie zdominować wszechświat.\\r\\n\\r\\nDuncan Idaho, którego kolejne inkarnacje zaczynają odczuwać skutki przeszłych żywotów, staje się kluczową postacią w wojnie. Odrade, jako Matka Przełożona, podejmuje desperackie kroki, by ocalić zakon i wyznacza nową ścieżkę współistnienia.\\r\\n\\r\\nSheeana, Duncan i Scytale – więzień Bene Gesserit – uciekają z Kapitularza wraz z próbkami piaskowych czerwii i załogą statku, który stanie się zalążkiem przyszłości. Ich celem jest znalezienie nowej drogi przetrwania poza konfliktem.\",\n",
      "    \"Diuna - Mesjasz.txt\": \"Dwanaście lat po objęciu tronu przez Paula Muad'Diba Atrydę, galaktyką wstrząsa dżihad prowadzony przez Fremenów, który pochłania miliardy istnień. Paul jako Imperator staje się symbolem religii, ale też tyranem w oczach wielu. Pomimo władzy absolutnej, Paul nie potrafi zatrzymać rozpędzonej machiny wojny.\\r\\n\\r\\nZakon Bene Gesserit, Gildia Kosmiczna oraz Tleilaxanie zawiązują spisek mający na celu obalenie Paula. Jego przeciwnicy tworzą gholę Duncana Idaho – wiernego żołnierza Atrydów, który zginął w walce na Arrakis. Ghola, nazwany Hayt, zostaje wysłany jako dar i narzędzie manipulacji, by psychicznie zdestabilizować Paula.\\r\\n\\r\\nTymczasem Chani, towarzyszka Paula, nie może urodzić potomka, co skłania ją do przyjęcia niebezpiecznej diety pełnej przyprawy. W międzyczasie Paul zaczyna coraz głębiej doświadczać wizji przyszłości, dostrzegając zarówno swoje ograniczenia, jak i konsekwencje swojej misji.\\r\\n\\r\\nW wyniku spisku ginie jego ukochana siostra Alia Atryda, a sam Paul – po narodzinach bliźniąt, Leto II i Ghanimy – oślepiony przez zamach, decyduje się opuścić pałac i odejść na pustynię, spełniając fremencki rytuał śmierci dla niewidomych. Pozostawia imperium w rękach siostry Alii jako regentki.\",\n",
      "    \"Diuna.txt\": \"W odległej przyszłości, w galaktycznym imperium rządzonym przez Padyszacha Imperatora Shaddama IV Corrino, rozgrywa się konflikt o kontrolę nad planetą Arrakis, jedynym źródłem najcenniejszej substancji we wszechświecie: melanżu, znanego jako przyprawa. Planeta ta, skrajnie sucha i zamieszkała przez tajemniczych Fremenów, kryje nie tylko przyprawę, ale i ogromne piaskowe czerwie, od których zależy cykl życia planety.\\r\\n\\r\\nRód Atrydów, pod wodzą księcia Leto Atrydy, zostaje przeniesiony na Arrakis z rozkazu Imperatora, by objąć władzę nad planetą i produkcją przyprawy. Leto przybywa tam z konkubiną, Lady Jessiką z zakonu Bene Gesserit, oraz ich synem, Paulem Atrydą. Przeniesienie to jest jednak pułapką – Imperator oraz znienawidzony ród Harkonnenów, na czele z baronem Vladimirem Harkonnenem, planują zniszczenie Atrydów.\\r\\n\\r\\nPaul, młody i inteligentny dziedzic rodu Atrydów, zostaje uwikłany w polityczne intrygi, zdradę i przewrót, który doprowadza do śmierci jego ojca. Zmuszony do ucieczki, Paul wraz z matką znajduje schronienie wśród Fremenów, ludu pustyni, który uznaje go za zapowiedzianego przez legendę Mahdiego – wybawcę.\\r\\n\\r\\nPod imieniem Muad'Dib, Paul zyskuje potęgę wśród Fremenów, ucząc się ich zwyczajów, języka i sposobów walki. Dzięki swoim nadludzkim zdolnościom, częściowo odziedziczonym po matce Bene Gesserit, a częściowo rozwiniętym pod wpływem przyprawy, Paul zaczyna widzieć przyszłość i dostrzega nadciągającą świętą wojnę.\\r\\n\\r\\nZ pomocą Stilgara, lidera Fremenów, oraz Chani, jego ukochanej, Paul przygotowuje rebelię. Po latach budowania siły militarnej wśród Fremenów, prowadzi atak na Harkonnenów i imperialne siły. Pokonując zarówno barona Harkonnena, jak i oddziały Sardaukarów Imperatora, Paul zmusza Shaddama IV do abdykacji i sam obejmuje tron jako nowy Imperator Galaktyki.\",\n",
      "    \"Kataklizm.txt\": \"Ostatnia część trylogii, w której David, Megan, Prof, Mister, Cody i inni Reckonerzy stają do ostatecznej walki z Kataklizmem – źródłem mocy Epików i tajemniczą istotą, która kontroluje mgłę i całe zjawisko transformacji ludzi w Epików.\\r\\n\\r\\nDavid odkrywa, że jego własne moce oraz jego przeznaczenie są związane z Kataklizmem i że tylko on może zakończyć tyranię Epików. Wraz z grupą sojuszników stara się powstrzymać rozprzestrzenianie się mocy Kataklizmu i ocalić resztki ludzkości.\\r\\n\\r\\nMegan rozwija swoje zdolności techniczne i bojowe, stając się kluczową postacią w planach Reckonerów. Prof zdradza swoje prawdziwe intencje i staje się bardziej złożoną postacią. Mister stara się utrzymać jedność grupy, mimo rosnących napięć i zagrożeń.\\r\\n\\r\\nW trakcie serii walk, zdrad i poświęceń bohaterowie muszą stawić czoła nie tylko potędze Kataklizmu, ale też własnym słabościom i traumom.\\r\\n\\r\\nFinałowa bitwa obejmuje konfrontację z Kataklizmem, który okazuje się być czymś więcej niż tylko siłą destrukcyjną – ma własną świadomość i motywacje. Ostateczne zwycięstwo wymaga od Davida i jego sojuszników poświęcenia i jedności.\\r\\n\\r\\nSaga kończy się odsłonięciem prawdy o pochodzeniu Epików, znaczeniu wolnej woli i nadziei na odbudowę świata.\",\n",
      "    \"Ognisty Boj.txt\": \"Akcja przenosi się do Nowego Babilonu – miasta kontrolowanego przez Epika o imieniu Firefight, który ma zdolności manipulowania ogniem i rzeczywistością. David wraz z Reckonerami podejmuje się misji infiltracji i walki w tym niebezpiecznym mieście.\\r\\n\\r\\nOprócz Megan, Cody’ego i Mistera, pojawiają się nowe postaci – Prof, który ma własne cele, i Abraham, który wciąż przewodzi grupie. David zaczyna odkrywać, że epicy są bardziej skomplikowani niż się wydawało, a ich moce mają złożone źródła i ograniczenia.\\r\\n\\r\\nDavid nawiązuje bardziej osobiste relacje z Megan, a także zbliża się do tajemniczego Epika Firefighta, którego prawdziwa tożsamość jest pełna sekretów i tragicznych wydarzeń.\\r\\n\\r\\nW trakcie walki z Firefightem i jego sługami Reckonerzy muszą zmierzyć się z wieloma pułapkami, zdradami i własnymi słabościami. David dowiaduje się więcej o tajemniczym pochodzeniu Epików i ich związkach z mgłą, która zmieniła świat.\\r\\n\\r\\nKulminacją jest walka, w której David i Megan muszą podjąć decyzje zaważające na losach miasta i całego świata, a odkrycia o naturze Epików wstrząsają ich dotychczasowym postrzeganiem rzeczywistości.\",\n",
      "    \"Saga Burzowego Archiwum - Droga Krolow.txt\": \"Akcja rozpoczyna się na kontynencie Roshar, targanym przez burze i wojnę między Alethkarczykami pod wodzą króla Elhokara Kholina, a plemieniem Parshendi na równinach Szaleństwa. Kaladin, były żołnierz, a potem niewolnik, trafia do grupy strażników ochrony książąt, gdzie zostaje ochroniarzem Dalinara Kholina – ambitnego, honorowego wojownika i brata króla Elhokara. Kaladin zmaga się z depresją i poczuciem beznadziei, lecz stopniowo odkrywa w sobie moce Radianta – potrafi manipulować światłem i ciężarem (gravitation).\\r\\n\\r\\nDalinar Kholin doświadcza tajemniczych wizji, które przypominają mu o pradawnych Radiantach i dawnej wojnie. Przekonany, że nadchodzi katastrofa, próbuje zjednoczyć rozbite domy Alethkaru, co spotyka się z oporem innych możnych, w tym generała Sadeasa. Dalinar stara się ocalić kraj i chronić swojego syna Adolina, walczącego na froncie.\\r\\n\\r\\nShallan Davar, młoda szlachcianka z Jah Keved, przybywa na dwór Jasnah Kholin, znanej uczonej i Radiantki, by zostać jej uczennicą. Shallan posiada zdolności Lightweavera – potrafi tworzyć iluzje i zmieniać rzeczywistość. W trakcie nauki zmaga się z traumą z dzieciństwa oraz tajemnicami swojej rodziny.\\r\\n\\r\\nW tle wojny pojawia się Hoid, tajemniczy wędrowiec, który obserwuje wydarzenia i ma własne plany. W międzyczasie Kaladin podejmuje się ochrony grupy szlachciców, w tym Adolina i Dalinara, budując wokół siebie lojalnych sojuszników, w tym Szalada – kapłana i wojownika oraz Rocka, potężnego Habratańskiego wojownika.\\r\\n\\r\\nKsiążka kończy się bitwą na równinach Szaleństwa, gdzie Parshendi ujawniają, że są związani z Voidbringerami i starożytną magią, co potwierdza nadchodzącą apokalipsę.\",\n",
      "    \"Saga Burzowego Archiwum - Slowa Swiatlosci.txt\": \"Kontynuacja historii Kaladina, Dalinara, Shallan i Adolina. Kaladin staje się kapitanem straży Dalinara i zmaga się z nowymi zagrożeniami oraz politycznymi intrygami. Wciąż rozwija swoje moce Radianta, a jego związek z Dalinarem i Adolinem staje się bardziej złożony, szczególnie w obliczu zdrady Moasha, dawnego towarzysza broni Kaladina, który przechodzi na stronę wroga.\\r\\n\\r\\nShallan kontynuuje swoją naukę u Jasnah, odkrywa kolejne aspekty mocy Lightweavera i zmaga się z poważnymi problemami psychicznymi – rozwija się u niej rozszczepienie osobowości, co prowadzi do powstania alternatywnych \\\"ja\\\" (Radiant, Veil, i inne).\\r\\n\\r\\nDalinar przechodzi duchową przemianę, podejmuje wysiłki na rzecz zjednoczenia Alethkaru, a także tworzy zakład Radiantów – nową grupę wojowników zdolnych do walki z Voidbringerami. Staje się liderem zarówno politycznym, jak i duchowym.\\r\\n\\r\\nAdolin, znany ze swojego kunsztu walki, zaczyna mieć wątpliwości wobec wojny, a jego relacje z Shallan i ojcem stają się coraz bardziej skomplikowane.\\r\\n\\r\\nW międzyczasie Shallan odkrywa prawdę o królestwie Jah Keved oraz zdradzie i intrygach na dworze. Jasnah zostaje porwana, co stawia bohaterów w trudnej sytuacji.\\r\\n\\r\\nKsiążka kończy się bitwą pod Narakalem, gdzie Kaladin i Dalinar stają przeciwko Parshendi, którzy tymczasowo osiągają przewagę dzięki mocy Burzy Światła. Dalinar wypowiada przysięgę jako Radiant, a świat staje na krawędzi wojny ostatecznej.\",\n",
      "    \"Saga Burzowego Archiwum -Dawca Przysiegi.txt\": \"Dalinar kontynuuje próbę utrzymania pokoju między ludźmi a dawnymi wrogami – Singers (Parshendi), którzy teraz współpracują z ludźmi, lecz pod wpływem Odium wciąż istnieje napięcie. Dalinar zmaga się z problemami zdrowotnymi i presją bycia liderem.\\r\\n\\r\\nKaladin, nadal walczący z PTSD i problemami zdrowotnymi, stara się znaleźć swoje miejsce po wojnie i nauczyć się wykorzystywać moce bez ich negatywnego wpływu. Jego relacje z Shallan i rodziną są skomplikowane.\\r\\n\\r\\nShallan walczy z wewnętrznymi demonami i starą traumą, ale także rozwija swoje zdolności Lightweavera, poznając tajemnice starożytnych sprzymierzeńców i technologii.\\r\\n\\r\\nNavani Kholin, matka Adolina i Renarina, odgrywa ważną rolę jako wynalazczyni i badaczka, pomagając w rozwoju technologii i magii, które mogą zmienić przebieg wojny.\\r\\n\\r\\nRenarin rozwija się jako Radiant, stając się ważnym sojusznikiem Dalinara i jego drużyny, mimo że jego moce są nietypowe i trudne do zrozumienia.\\r\\n\\r\\nW tle trwa walka z nowymi przeciwnikami – Fused, potężnymi istotami związanymi z Odium, którzy zagrażają światu Roshar.\\r\\n\\r\\nHoid pojawia się z nowymi informacjami, które sugerują, że konflikt jest tylko częścią znacznie większej gry.\\r\\n\\r\\nKsiążka rozwija wątki polityczne, duchowe i militarne, pokazując bohaterów stojących przed ogromnymi wyzwaniami zarówno zewnętrznymi, jak i wewnętrznymi.\",\n",
      "    \"Saga Burzowego Archiwum -Przysiega Krolowej.txt\": \"Dalinar Kholin, po śmierci swojego brata króla Gavriela, przejmuje przywództwo nad Alethkarem i prowadzi zjednoczone wojska przeciwko Voidbringerom i Parshendi, którzy zmieniają się w pełnoprawnych wrogów świata – Odium. Dalinar walczy z własną mroczną przeszłością jako zwany \\\"Rzeźnikiem\\\", próbując stać się człowiekiem honoru.\\r\\n\\r\\nKaladin zmaga się z problemami zdrowotnymi, które osłabiają jego moce Radianta, a także z poczuciem odpowiedzialności za ochronę przyjaciół i rodziny.\\r\\n\\r\\nShallan, z pomocą swoich alter ego (Radiant, Veil i inne), odkrywa kolejne sekrety dotyczące swojej rodziny, a także tajemnice starożytnej magii związanej z mocami Lightweavera. Jej umiejętności rosną, lecz wewnętrzne konflikty psychiczne komplikują sytuację.\\r\\n\\r\\nAdolin wciąż walczy z własnymi demonami, staje przed dylematami moralnymi i rozważa swoje miejsce w świecie.\\r\\n\\r\\nWażnym wątkiem jest również wzrost potęgi Odium, boga nienawiści, oraz próby Dalinara, by stworzyć sojusz między różnymi frakcjami ludzi, Radiantów i dawnych wrogów. Hoid ponownie pojawia się, dostarczając wskazówek i tajemniczych informacji.\\r\\n\\r\\nOstateczna bitwa rozgrywa się w Kholinarze, gdzie Dalinar i jego sojusznicy muszą stawić czoła Odium i armii Voidbringerów. Dalinar wypowiada wielką przysięgę, łącząc swoje moce i odkrywając prawdziwą tożsamość Radiantów. Seria kończy się otwartym konfliktem i zapowiedzią kolejnych wyzwań.\",\n",
      "    \"Stalowe Serce.txt\": \"Akcja rozgrywa się w postapokaliptycznym świecie, gdzie tajemnicza mgła przyniosła pojawienie się Epików – ludzi z nadnaturalnymi mocami, którzy w większości stali się tyranami rządzącymi miastami. Głównym bohaterem jest David Charleston, który jako dziecko był świadkiem śmierci ojca z rąk Epika o imieniu Steelheart – niepokonanego i niemal boskiego władcy miasta Chicago.\\r\\n\\r\\nDavid dołącza do grupy Reckonerów – ruchu oporu walczącego z Epikami, którego liderem jest Abraham (Mister) Regal, mentor i strateg. W grupie są też Megan, ekspertka od technologii i walki, Cody, młody i impulsywny członek ekipy, i Prof, specjalista od broni i taktyk.\\r\\n\\r\\nDavid planuje zemstę na Steelheartcie, poszukując jego słabości, którą uważa za klucz do pokonania Epika. Odkrywa, że Steelheart jest niemal nieśmiertelny i niezwykle potężny, ale posiada pewną ukrytą słabość – moment, w którym jego moc może zostać złamana.\\r\\n\\r\\nW trakcie licznych misji Reckonerzy zdobywają informacje i prowadzą walki z innymi Epikami oraz ich zwolennikami. David rozwija swoje umiejętności i staje się coraz bardziej zdeterminowany, by pokonać Steelhearta.\\r\\n\\r\\nKsiążka kończy się dramatyczną konfrontacją z Steelheartem, podczas której David wykorzystuje zdobyte informacje o słabości Epika, co prowadzi do niespodziewanego przełomu i otwiera nadzieję na obalenie tyranii Epików.\",\n",
      "    \"Władca Pierscieni - Druzyna Pierscienia.txt\": \"Hobbit Bilbo Baggins, mieszkający w spokojnej i odizolowanej krainie zwanej Shire, postanawia niespodziewanie opuścić swój dom w dniu swoich 111. urodzin. Przed odejściem zostawia cały swój majątek swojemu krewnemu, Frodowi Bagginsowi, w tym tajemniczy złoty pierścień, który potrafi czynić właściciela niewidzialnym. Czarodziej Gandalf Szary, dawny przyjaciel Bilba, odkrywa, że jest to nie zwykły magiczny przedmiot, lecz Jedyny Pierścień – potężny artefakt stworzony przez Mrocznego Władcę Saurona, który niegdyś używał go do podporządkowania sobie innych władców Śródziemia. Sauron, choć pokonany wieki temu, przetrwał jako duch i odzyskuje siły w swojej twierdzy w Mordorze. Teraz, wiedząc że pierścień przetrwał i został odnaleziony, Sauron pragnie go odzyskać, by przywrócić sobie pełnię mocy.\\r\\n\\r\\nGandalf nakazuje Frodowi opuścić Shire, zanim słudzy Saurona – Upiorzy Nazgûl – odnajdą go. Frodo wyrusza w towarzystwie trójki zaprzyjaźnionych hobbitów: Sama Gamgee, Merry’ego Brandybucka i Pippina Tooka. Ich celem jest dotarcie do Rivendell, siedziby elfów i Elronda. Po drodze spotykają Aragorna, tajemniczego strażnika znanego jako Obieżyświat, który chroni ich przed Nazgûlami i prowadzi przez niebezpieczne tereny. W Rivendell Frodo zostaje uleczony z rany zadanej przez Nazgûla, a Elrond zwołuje naradę, na którą przybywają przedstawiciele wszystkich wolnych ludów Śródziemia: elfowie, krasnoludy, ludzie i czarodzieje. Ustalają, że Jedyny Pierścień musi zostać zniszczony w ogniu Góry Przeznaczenia, w samym sercu Mordoru, gdzie został wykuty.\\r\\n\\r\\nZawiązuje się Drużyna Pierścienia, składająca się z dziewięciu członków: Frodo, Sam, Merry, Pippin, Aragorn, Gandalf, elf Legolas, krasnolud Gimli i Boromir – syn namiestnika Gondoru. Ich celem jest wspólne dotarcie do Mordoru i wsparcie Froda w jego misji. Drużyna wyrusza na południe, próbując przejść przez Przełęcz Caradhras, ale zostaje zmuszona do przejścia przez dawne krasnoludzkie podziemia – Morie. Tam odkrywają, że kopalnie zostały opanowane przez orków i inne potwory. W jednej z bitew pojawia się Balrog – pradawna istota z cienia i ognia. Gandalf staje do walki z Balrogiem na moście w Morii, ratując drużynę kosztem własnego życia, spadając w przepaść wraz z potworem.\\r\\n\\r\\nPozostali członkowie drużyny uciekają do Lothlórien – królestwa elfów rządzonego przez Galadrielę i Celeborna. Tam otrzymują schronienie, dary oraz rady na dalszą drogę. Po odpoczynku płyną rzeką Anduin w stronę Mordoru. Podczas przeprawy narastają napięcia, zwłaszcza w Boromirze, który pragnie użyć pierścienia do obrony swojego miasta – Gondoru. W pewnym momencie Boromir próbuje odebrać pierścień Frodowi, co zmusza hobbita do podjęcia decyzji o samotnej kontynuacji misji. Jednak Sam domyśla się jego planu i dołącza do niego, przysięgając, że nie opuści pana.\\r\\n\\r\\nTymczasem orki, wysłane przez Saurona lub Sarumana, atakują resztę drużyny. Boromir ginie, broniąc Merry’ego i Pippina, którzy zostają pojmani i uprowadzeni. Aragorn, Gimli i Legolas postanawiają ruszyć za orkami, by ocalić porwanych hobbitów, mimo rozpadu drużyny i utraty celu przewodniego. Frodo i Sam samotnie kierują się w stronę Mordoru, nie wiedząc, co ich czeka, ale zdecydowani kontynuować podróż, od której zależy los całego świata.\",\n",
      "    \"Władca Pierscieni - Dwie Wieze.txt\": \"Po rozpadzie Drużyny Pierścienia Frodo i Sam kontynuują podróż do Mordoru. Na szlaku spotykają Golluma – dawną istotę, która przez wieki posiadała Jedyny Pierścień i została przez niego skażona. Gollum, tropiący ich od Rivendell, zostaje przez nich schwytany, a następnie – ku zaskoczeniu Sama – przez Froda oszczędzony. Frodo uznaje, że Gollum może być przewodnikiem do Mordoru, ponieważ zna drogę do Góry Przeznaczenia. Gollum zgadza się ich prowadzić, choć jego lojalność i intencje pozostają wątpliwe. W czasie podróży Gollum przejawia wewnętrzną walkę między dwoma naturami – posłusznym Sméagolem i zdradliwym Gollumem.\\r\\n\\r\\nTymczasem Aragorn, Legolas i Gimli ścigają orków, którzy porwali Merry’ego i Pippina. Podążają przez dzikie równiny Rohanu – królestwa ludzi pod panowaniem króla Théodena. Podczas pościgu spotykają odział jeźdźców Rohanu, dowodzony przez Éomera, który informuje ich, że orki zostali rozbici. W tym samym czasie Merry i Pippin, wykorzystując chaos bitwy, uciekają z niewoli i trafiają do starożytnego lasu Fangorn, gdzie spotykają enta Drzewca – jednego z ostatnich przedstawicieli pradawnej rasy drzewopodobnych istot. Drzewiec, po wysłuchaniu opowieści hobbitów, decyduje się zwołać naradę entów, która prowadzi do decyzji o ataku na warownię Isengardu – siedzibę Sarumana, zdrajcy i sprzymierzeńca Saurona.\\r\\n\\r\\nAragorn, Legolas i Gimli w lesie Fangorn spotykają Gandalfa, który powrócił do życia jako Gandalf Biały, silniejszy i przemieniony po zwycięstwie nad Balrogiem. Razem udają się do Edoras – stolicy Rohanu – gdzie Gandalf uwalnia króla Théodena spod wpływu złowrogiego doradcy Grímy, który działał na polecenie Sarumana. Théoden, odzyskawszy wolę walki, zwołuje wojska Rohanu i wyrusza na obronę twierdzy Helmowy Jar przed nadciągającą armią orków Sarumana. Dochodzi tam do wielkiej bitwy, w której Rohirrimowie, wspomagani przez Gandalfa i Éomera, odnoszą zwycięstwo nad przeważającymi siłami wroga.\\r\\n\\r\\nRównolegle, Merry i Pippin, przebywający z entami, biorą udział w marszu Drzewca i jego towarzyszy na Isengard. Entowie niszczą twierdzę i zatapiają jej wnętrze, unieruchamiając Sarumana w wieży Orthanku. Gdy Gandalf przybywa do Isengardu, odbiera Sarumanowi władzę i łamie jego kostur. Zostaje mu również odebrany Palantir – magiczny kamień, dzięki któremu Saruman kontaktował się z Sauronem.\\r\\n\\r\\nW tym czasie Frodo, Sam i Gollum zbliżają się do Mordoru. Po przejściu przez zdradliwe bagna trafiają pod Czarną Bramę, lecz nie mogą się przez nią przedostać. Gollum oferuje im alternatywną ścieżkę przez zdradzieckie przejście Cirith Ungol. Po drodze zostają pochwyceni przez żołnierzy z Gondoru i zaprowadzeni do twierdzy w Osgiliath, gdzie poznają Faramira – brata poległego Boromira. Faramir, w przeciwieństwie do brata, nie próbuje odebrać Frodo pierścienia i pozwala im odejść.\\r\\n\\r\\nGollum prowadzi ich dalej, lecz zdradza ich, prowadząc do jaskini, w której czai się olbrzymia pajęczyca Szeloba. Frodo zostaje przez nią ukąszony i obezwładniony. Sam pokonuje potwora w walce i, sądząc że Frodo nie żyje, sam podejmuje pierścień. Gdy odkrywa, że Frodo żyje, ale został uwięziony przez orków, rusza na ratunek, zostawiając za sobą wszelki strach.\",\n",
      "    \"Władca Pierscieni - Powrot Krola.txt\": \"Sam, który przejął Pierścień po ataku Szeloby, włamuje się do twierdzy Cirith Ungol, by ocalić Froda z rąk orków. Po wielu trudnościach uwalnia przyjaciela i razem kontynuują drogę przez spustoszony krajobraz Mordoru w stronę Góry Przeznaczenia. Podróż jest wyczerpująca, a Frodo coraz bardziej ulega wpływowi Pierścienia, stając się słabszy i bardziej odizolowany. Sam musi nie tylko go chronić, ale także motywować do dalszego marszu.\\r\\n\\r\\nTymczasem Aragorn, Legolas, Gimli, Gandalf, Merry i Pippin przebywają w Minas Tirith – stolicy Gondoru, która przygotowuje się na ostateczne starcie z siłami Saurona. Rządzi tam namiestnik Denethor, ojciec Boromira i Faramira, który popada w obłęd, przekonany o nieuchronnej klęsce. Po odniesieniu ran przez Faramira Denethor popada w rozpacz i próbuje popełnić samobójstwo wraz z synem. Gandalf ratuje Faramira, lecz Denethor ginie w płomieniach.\\r\\n\\r\\nW międzyczasie Théoden przybywa z wojskami Rohanu, by wspomóc Gondor w bitwie pod Minas Tirith. Dochodzi do wielkiej bitwy na Polach Pelennoru, podczas której ginie Théoden, a Éowina, jego bratanica, w przebraniu mężczyzny, wraz z hobbitem Merry’m pokonuje Wodza Nazgûli. Po zwycięstwie na polu bitwy siły sprzymierzonych postanawiają wyruszyć w stronę Czarnej Bramy Mordoru, aby odciągnąć uwagę Saurona od Froda i umożliwić mu dotarcie do celu.\\r\\n\\r\\nAragorn, wcześniej udawszy się do Ścieżki Umarłych, przyzywa armię duchów dawno zmarłych królów, którzy niegdyś złamali przysięgę i teraz spłacają swój dług, pomagając mu w walce z armiami Saurona. Po zwycięstwach Aragorn objawia się jako dziedzic Isildura i prawowity król Gondoru, zyskując poparcie ludu.\\r\\n\\r\\nFrodo i Sam docierają w końcu do wnętrza Góry Przeznaczenia, lecz na samym końcu Frodo ulega mocy Pierścienia i ogłasza go swoim. W tym momencie pojawia się Gollum, który atakuje Froda i odgryza mu palec z Pierścieniem. W walce Gollum traci równowagę i wpada wraz z Pierścieniem do ognia, niszcząc go i jednocześnie siebie. Sauron zostaje pokonany, jego armie rozpadają się, a wieża Barad-dûr runie. Cienie nad Śródziemiem się rozpraszają.\\r\\n\\r\\nFrodo i Sam zostają uratowani przez orły, które przynoszą ich do bezpiecznego miejsca. Wkrótce Aragorn zostaje koronowany na króla Gondoru i Arnoru, przywracając jedność królestw ludzi. Éowina i Faramir zakochują się w sobie. Pippin i Merry wracają do Shire, gdzie zastają kraj zniszczony przez siły Sarumana, który po upadku Isengardu uciekł i przez pewien czas tyranizował Shire. Hobbici zorganizowali powstanie i wypędzili najeźdźców. Saruman ginie z rąk własnego sługi, Grímy.\\r\\n\\r\\nPo zakończeniu wojny, Frodo, nadal cierpiący z powodu ran fizycznych i psychicznych, nie może odnaleźć się w dawnym życiu. Wraz z Gandalfem, Bilbem, Galadrielą i Elrondem opuszcza Śródziemie, odpływając na Zachód do Nieśmiertelnych Krain. Sam powraca do Shire, żeni się z Różą Cotton, zakłada rodzinę i zostaje burmistrzem. Tak kończy się historia Wojny o Pierścień.\"\n",
      "}\n"
     ]
    }
   ],
   "source": [
    "documents = {}\n",
    "for f in files:\n",
    "    documents[f] = corpus.raw(f)\n",
    "print(json.dumps(documents, indent=4, ensure_ascii=False))"
   ]
  },
  {
   "cell_type": "code",
   "execution_count": 11,
   "metadata": {},
   "outputs": [
    {
     "data": {
      "text/plain": [
       "['vol',\n",
       " 'o.o.',\n",
       " 'mgr',\n",
       " 'godz',\n",
       " 'zł',\n",
       " 'www',\n",
       " 'pl',\n",
       " 'ul',\n",
       " 'tel',\n",
       " 'hab',\n",
       " 'prof',\n",
       " 'inż',\n",
       " 'dr',\n",
       " 'i',\n",
       " 'u',\n",
       " 'aby',\n",
       " 'albo',\n",
       " 'ale',\n",
       " 'ani',\n",
       " 'aż',\n",
       " 'bardzo',\n",
       " 'bez',\n",
       " 'bo',\n",
       " 'bowiem',\n",
       " 'by',\n",
       " 'byli',\n",
       " 'bym',\n",
       " 'był',\n",
       " 'była',\n",
       " 'było',\n",
       " 'były',\n",
       " 'być',\n",
       " 'będzie',\n",
       " 'będą',\n",
       " 'chce',\n",
       " 'choć',\n",
       " 'co',\n",
       " 'coraz',\n",
       " 'coś',\n",
       " 'czy',\n",
       " 'czyli',\n",
       " 'często',\n",
       " 'dla',\n",
       " 'do',\n",
       " 'gdy',\n",
       " 'gdyby',\n",
       " 'gdyż',\n",
       " 'gdzie',\n",
       " 'go',\n",
       " 'ich',\n",
       " 'im',\n",
       " 'inne',\n",
       " 'iż',\n",
       " 'ja',\n",
       " 'jak',\n",
       " 'jakie',\n",
       " 'jako',\n",
       " 'je',\n",
       " 'jednak',\n",
       " 'jednym',\n",
       " 'jedynie',\n",
       " 'jego',\n",
       " 'jej',\n",
       " 'jest',\n",
       " 'jeszcze',\n",
       " 'jeśli',\n",
       " 'jeżeli',\n",
       " 'już',\n",
       " 'ją',\n",
       " 'kiedy',\n",
       " 'kilku',\n",
       " 'kto',\n",
       " 'która',\n",
       " 'które',\n",
       " 'którego',\n",
       " 'której',\n",
       " 'który',\n",
       " 'których',\n",
       " 'którym',\n",
       " 'którzy',\n",
       " 'lat',\n",
       " 'lecz',\n",
       " 'lub',\n",
       " 'ma',\n",
       " 'mają',\n",
       " 'mamy',\n",
       " 'mi',\n",
       " 'miał',\n",
       " 'mimo',\n",
       " 'mnie',\n",
       " 'mogą',\n",
       " 'może',\n",
       " 'można',\n",
       " 'mu',\n",
       " 'musi',\n",
       " 'na',\n",
       " 'nad',\n",
       " 'nam',\n",
       " 'nas',\n",
       " 'nawet',\n",
       " 'nic',\n",
       " 'nich',\n",
       " 'nie',\n",
       " 'niej',\n",
       " 'nim',\n",
       " 'niż',\n",
       " 'no',\n",
       " 'nowe',\n",
       " 'np',\n",
       " 'nr',\n",
       " 'o',\n",
       " 'od',\n",
       " 'ok',\n",
       " 'on',\n",
       " 'one',\n",
       " 'oraz',\n",
       " 'pan',\n",
       " 'po',\n",
       " 'pod',\n",
       " 'ponad',\n",
       " 'ponieważ',\n",
       " 'poza',\n",
       " 'przed',\n",
       " 'przede',\n",
       " 'przez',\n",
       " 'przy',\n",
       " 'raz',\n",
       " 'razie',\n",
       " 'roku',\n",
       " 'również',\n",
       " 'się',\n",
       " 'sobie',\n",
       " 'sposób',\n",
       " 'swoje',\n",
       " 'są',\n",
       " 'ta',\n",
       " 'tak',\n",
       " 'takich',\n",
       " 'takie',\n",
       " 'także',\n",
       " 'tam',\n",
       " 'te',\n",
       " 'tego',\n",
       " 'tej',\n",
       " 'temu',\n",
       " 'ten',\n",
       " 'teraz',\n",
       " 'też',\n",
       " 'to',\n",
       " 'trzeba',\n",
       " 'tu',\n",
       " 'tych',\n",
       " 'tylko',\n",
       " 'tym',\n",
       " 'tys',\n",
       " 'tzw',\n",
       " 'tę',\n",
       " 'w',\n",
       " 'we',\n",
       " 'wie',\n",
       " 'więc',\n",
       " 'wszystko',\n",
       " 'wśród',\n",
       " 'właśnie',\n",
       " 'z',\n",
       " 'za',\n",
       " 'zaś',\n",
       " 'ze',\n",
       " 'że',\n",
       " 'żeby',\n",
       " 'ii',\n",
       " 'iii',\n",
       " 'iv',\n",
       " 'vi',\n",
       " 'vii',\n",
       " 'viii',\n",
       " 'ix',\n",
       " 'xi',\n",
       " 'xii',\n",
       " 'xiii',\n",
       " 'xiv',\n",
       " 'xv']"
      ]
     },
     "execution_count": 11,
     "metadata": {},
     "output_type": "execute_result"
    }
   ],
   "source": [
    "stoplist_file = open(\"./stopwords_pl.txt\", \"r\", encoding=\"UTF-8\")\n",
    "stoplist = stoplist_file.read().splitlines()\n",
    "stoplist_file.close()\n",
    "stoplist = stoplist[4:]\n",
    "stoplist"
   ]
  },
  {
   "cell_type": "code",
   "execution_count": 12,
   "metadata": {},
   "outputs": [],
   "source": [
    "def lemmatize(text):\n",
    "    morf = morfeusz2.Morfeusz()\n",
    "    segments = it.groupby(morf.analyse(text), op.itemgetter(0,1))\n",
    "    def disambiguate(group):\n",
    "        pairs = ((len(descr), lemma)\n",
    "                 for _, _, (_, lemma, descr, _, _, ) in group)\n",
    "        perpl, lemma = min(pairs)\n",
    "        return lemma.split(\":\")[0]\n",
    "    lemmas = (disambiguate(group) for key, group in segments)\n",
    "    return \" \".join(filter(str.isalpha, lemmas))"
   ]
  },
  {
   "cell_type": "code",
   "execution_count": 13,
   "metadata": {},
   "outputs": [
    {
     "ename": "LookupError",
     "evalue": "\n**********************************************************************\n  Resource \u001b[93mpunkt_tab\u001b[0m not found.\n  Please use the NLTK Downloader to obtain the resource:\n\n  \u001b[31m>>> import nltk\n  >>> nltk.download('punkt_tab')\n  \u001b[0m\n  For more information see: https://www.nltk.org/data.html\n\n  Attempted to load \u001b[93mtokenizers/punkt_tab/polish/\u001b[0m\n\n  Searched in:\n    - 'C:\\\\Users\\\\marek/nltk_data'\n    - 'c:\\\\Users\\\\marek\\\\Desktop\\\\knowledge-graph-llm-new-main\\\\.venv\\\\nltk_data'\n    - 'c:\\\\Users\\\\marek\\\\Desktop\\\\knowledge-graph-llm-new-main\\\\.venv\\\\share\\\\nltk_data'\n    - 'c:\\\\Users\\\\marek\\\\Desktop\\\\knowledge-graph-llm-new-main\\\\.venv\\\\lib\\\\nltk_data'\n    - 'C:\\\\Users\\\\marek\\\\AppData\\\\Roaming\\\\nltk_data'\n    - 'C:\\\\nltk_data'\n    - 'D:\\\\nltk_data'\n    - 'E:\\\\nltk_data'\n**********************************************************************\n",
     "output_type": "error",
     "traceback": [
      "\u001b[31m---------------------------------------------------------------------------\u001b[39m",
      "\u001b[31mLookupError\u001b[39m                               Traceback (most recent call last)",
      "\u001b[36mCell\u001b[39m\u001b[36m \u001b[39m\u001b[32mIn[13]\u001b[39m\u001b[32m, line 5\u001b[39m\n\u001b[32m      3\u001b[39m     documents[key] = \u001b[33m\"\u001b[39m\u001b[33m\"\u001b[39m.join([char \u001b[38;5;28;01mfor\u001b[39;00m char \u001b[38;5;129;01min\u001b[39;00m documents[key] \u001b[38;5;28;01mif\u001b[39;00m char \u001b[38;5;129;01mnot\u001b[39;00m \u001b[38;5;129;01min\u001b[39;00m string.punctuation])\n\u001b[32m      4\u001b[39m     documents[key] = lemmatize(documents[key])\n\u001b[32m----> \u001b[39m\u001b[32m5\u001b[39m     documents[key] = \u001b[33m\"\u001b[39m\u001b[33m \u001b[39m\u001b[33m\"\u001b[39m.join([word \u001b[38;5;28;01mfor\u001b[39;00m word \u001b[38;5;129;01min\u001b[39;00m \u001b[43mword_tokenize\u001b[49m\u001b[43m(\u001b[49m\u001b[43mdocuments\u001b[49m\u001b[43m[\u001b[49m\u001b[43mkey\u001b[49m\u001b[43m]\u001b[49m\u001b[43m,\u001b[49m\u001b[43m \u001b[49m\u001b[43mlanguage\u001b[49m\u001b[43m=\u001b[49m\u001b[33;43m'\u001b[39;49m\u001b[33;43mpolish\u001b[39;49m\u001b[33;43m'\u001b[39;49m\u001b[43m)\u001b[49m \u001b[38;5;28;01mif\u001b[39;00m word \u001b[38;5;129;01mnot\u001b[39;00m \u001b[38;5;129;01min\u001b[39;00m stoplist])\n\u001b[32m      6\u001b[39m \u001b[38;5;28mprint\u001b[39m(json.dumps(documents, indent=\u001b[32m4\u001b[39m, ensure_ascii=\u001b[38;5;28;01mFalse\u001b[39;00m))\n",
      "\u001b[36mFile \u001b[39m\u001b[32mc:\\Users\\marek\\Desktop\\knowledge-graph-llm-new-main\\.venv\\Lib\\site-packages\\nltk\\tokenize\\__init__.py:142\u001b[39m, in \u001b[36mword_tokenize\u001b[39m\u001b[34m(text, language, preserve_line)\u001b[39m\n\u001b[32m    127\u001b[39m \u001b[38;5;28;01mdef\u001b[39;00m\u001b[38;5;250m \u001b[39m\u001b[34mword_tokenize\u001b[39m(text, language=\u001b[33m\"\u001b[39m\u001b[33menglish\u001b[39m\u001b[33m\"\u001b[39m, preserve_line=\u001b[38;5;28;01mFalse\u001b[39;00m):\n\u001b[32m    128\u001b[39m \u001b[38;5;250m    \u001b[39m\u001b[33;03m\"\"\"\u001b[39;00m\n\u001b[32m    129\u001b[39m \u001b[33;03m    Return a tokenized copy of *text*,\u001b[39;00m\n\u001b[32m    130\u001b[39m \u001b[33;03m    using NLTK's recommended word tokenizer\u001b[39;00m\n\u001b[32m   (...)\u001b[39m\u001b[32m    140\u001b[39m \u001b[33;03m    :type preserve_line: bool\u001b[39;00m\n\u001b[32m    141\u001b[39m \u001b[33;03m    \"\"\"\u001b[39;00m\n\u001b[32m--> \u001b[39m\u001b[32m142\u001b[39m     sentences = [text] \u001b[38;5;28;01mif\u001b[39;00m preserve_line \u001b[38;5;28;01melse\u001b[39;00m \u001b[43msent_tokenize\u001b[49m\u001b[43m(\u001b[49m\u001b[43mtext\u001b[49m\u001b[43m,\u001b[49m\u001b[43m \u001b[49m\u001b[43mlanguage\u001b[49m\u001b[43m)\u001b[49m\n\u001b[32m    143\u001b[39m     \u001b[38;5;28;01mreturn\u001b[39;00m [\n\u001b[32m    144\u001b[39m         token \u001b[38;5;28;01mfor\u001b[39;00m sent \u001b[38;5;129;01min\u001b[39;00m sentences \u001b[38;5;28;01mfor\u001b[39;00m token \u001b[38;5;129;01min\u001b[39;00m _treebank_word_tokenizer.tokenize(sent)\n\u001b[32m    145\u001b[39m     ]\n",
      "\u001b[36mFile \u001b[39m\u001b[32mc:\\Users\\marek\\Desktop\\knowledge-graph-llm-new-main\\.venv\\Lib\\site-packages\\nltk\\tokenize\\__init__.py:119\u001b[39m, in \u001b[36msent_tokenize\u001b[39m\u001b[34m(text, language)\u001b[39m\n\u001b[32m    109\u001b[39m \u001b[38;5;28;01mdef\u001b[39;00m\u001b[38;5;250m \u001b[39m\u001b[34msent_tokenize\u001b[39m(text, language=\u001b[33m\"\u001b[39m\u001b[33menglish\u001b[39m\u001b[33m\"\u001b[39m):\n\u001b[32m    110\u001b[39m \u001b[38;5;250m    \u001b[39m\u001b[33;03m\"\"\"\u001b[39;00m\n\u001b[32m    111\u001b[39m \u001b[33;03m    Return a sentence-tokenized copy of *text*,\u001b[39;00m\n\u001b[32m    112\u001b[39m \u001b[33;03m    using NLTK's recommended sentence tokenizer\u001b[39;00m\n\u001b[32m   (...)\u001b[39m\u001b[32m    117\u001b[39m \u001b[33;03m    :param language: the model name in the Punkt corpus\u001b[39;00m\n\u001b[32m    118\u001b[39m \u001b[33;03m    \"\"\"\u001b[39;00m\n\u001b[32m--> \u001b[39m\u001b[32m119\u001b[39m     tokenizer = \u001b[43m_get_punkt_tokenizer\u001b[49m\u001b[43m(\u001b[49m\u001b[43mlanguage\u001b[49m\u001b[43m)\u001b[49m\n\u001b[32m    120\u001b[39m     \u001b[38;5;28;01mreturn\u001b[39;00m tokenizer.tokenize(text)\n",
      "\u001b[36mFile \u001b[39m\u001b[32mc:\\Users\\marek\\Desktop\\knowledge-graph-llm-new-main\\.venv\\Lib\\site-packages\\nltk\\tokenize\\__init__.py:105\u001b[39m, in \u001b[36m_get_punkt_tokenizer\u001b[39m\u001b[34m(language)\u001b[39m\n\u001b[32m     96\u001b[39m \u001b[38;5;129m@functools\u001b[39m.lru_cache\n\u001b[32m     97\u001b[39m \u001b[38;5;28;01mdef\u001b[39;00m\u001b[38;5;250m \u001b[39m\u001b[34m_get_punkt_tokenizer\u001b[39m(language=\u001b[33m\"\u001b[39m\u001b[33menglish\u001b[39m\u001b[33m\"\u001b[39m):\n\u001b[32m     98\u001b[39m \u001b[38;5;250m    \u001b[39m\u001b[33;03m\"\"\"\u001b[39;00m\n\u001b[32m     99\u001b[39m \u001b[33;03m    A constructor for the PunktTokenizer that utilizes\u001b[39;00m\n\u001b[32m    100\u001b[39m \u001b[33;03m    a lru cache for performance.\u001b[39;00m\n\u001b[32m   (...)\u001b[39m\u001b[32m    103\u001b[39m \u001b[33;03m    :type language: str\u001b[39;00m\n\u001b[32m    104\u001b[39m \u001b[33;03m    \"\"\"\u001b[39;00m\n\u001b[32m--> \u001b[39m\u001b[32m105\u001b[39m     \u001b[38;5;28;01mreturn\u001b[39;00m \u001b[43mPunktTokenizer\u001b[49m\u001b[43m(\u001b[49m\u001b[43mlanguage\u001b[49m\u001b[43m)\u001b[49m\n",
      "\u001b[36mFile \u001b[39m\u001b[32mc:\\Users\\marek\\Desktop\\knowledge-graph-llm-new-main\\.venv\\Lib\\site-packages\\nltk\\tokenize\\punkt.py:1744\u001b[39m, in \u001b[36mPunktTokenizer.__init__\u001b[39m\u001b[34m(self, lang)\u001b[39m\n\u001b[32m   1742\u001b[39m \u001b[38;5;28;01mdef\u001b[39;00m\u001b[38;5;250m \u001b[39m\u001b[34m__init__\u001b[39m(\u001b[38;5;28mself\u001b[39m, lang=\u001b[33m\"\u001b[39m\u001b[33menglish\u001b[39m\u001b[33m\"\u001b[39m):\n\u001b[32m   1743\u001b[39m     PunktSentenceTokenizer.\u001b[34m__init__\u001b[39m(\u001b[38;5;28mself\u001b[39m)\n\u001b[32m-> \u001b[39m\u001b[32m1744\u001b[39m     \u001b[38;5;28;43mself\u001b[39;49m\u001b[43m.\u001b[49m\u001b[43mload_lang\u001b[49m\u001b[43m(\u001b[49m\u001b[43mlang\u001b[49m\u001b[43m)\u001b[49m\n",
      "\u001b[36mFile \u001b[39m\u001b[32mc:\\Users\\marek\\Desktop\\knowledge-graph-llm-new-main\\.venv\\Lib\\site-packages\\nltk\\tokenize\\punkt.py:1749\u001b[39m, in \u001b[36mPunktTokenizer.load_lang\u001b[39m\u001b[34m(self, lang)\u001b[39m\n\u001b[32m   1746\u001b[39m \u001b[38;5;28;01mdef\u001b[39;00m\u001b[38;5;250m \u001b[39m\u001b[34mload_lang\u001b[39m(\u001b[38;5;28mself\u001b[39m, lang=\u001b[33m\"\u001b[39m\u001b[33menglish\u001b[39m\u001b[33m\"\u001b[39m):\n\u001b[32m   1747\u001b[39m     \u001b[38;5;28;01mfrom\u001b[39;00m\u001b[38;5;250m \u001b[39m\u001b[34;01mnltk\u001b[39;00m\u001b[34;01m.\u001b[39;00m\u001b[34;01mdata\u001b[39;00m\u001b[38;5;250m \u001b[39m\u001b[38;5;28;01mimport\u001b[39;00m find\n\u001b[32m-> \u001b[39m\u001b[32m1749\u001b[39m     lang_dir = \u001b[43mfind\u001b[49m\u001b[43m(\u001b[49m\u001b[33;43mf\u001b[39;49m\u001b[33;43m\"\u001b[39;49m\u001b[33;43mtokenizers/punkt_tab/\u001b[39;49m\u001b[38;5;132;43;01m{\u001b[39;49;00m\u001b[43mlang\u001b[49m\u001b[38;5;132;43;01m}\u001b[39;49;00m\u001b[33;43m/\u001b[39;49m\u001b[33;43m\"\u001b[39;49m\u001b[43m)\u001b[49m\n\u001b[32m   1750\u001b[39m     \u001b[38;5;28mself\u001b[39m._params = load_punkt_params(lang_dir)\n\u001b[32m   1751\u001b[39m     \u001b[38;5;28mself\u001b[39m._lang = lang\n",
      "\u001b[36mFile \u001b[39m\u001b[32mc:\\Users\\marek\\Desktop\\knowledge-graph-llm-new-main\\.venv\\Lib\\site-packages\\nltk\\data.py:579\u001b[39m, in \u001b[36mfind\u001b[39m\u001b[34m(resource_name, paths)\u001b[39m\n\u001b[32m    577\u001b[39m sep = \u001b[33m\"\u001b[39m\u001b[33m*\u001b[39m\u001b[33m\"\u001b[39m * \u001b[32m70\u001b[39m\n\u001b[32m    578\u001b[39m resource_not_found = \u001b[33mf\u001b[39m\u001b[33m\"\u001b[39m\u001b[38;5;130;01m\\n\u001b[39;00m\u001b[38;5;132;01m{\u001b[39;00msep\u001b[38;5;132;01m}\u001b[39;00m\u001b[38;5;130;01m\\n\u001b[39;00m\u001b[38;5;132;01m{\u001b[39;00mmsg\u001b[38;5;132;01m}\u001b[39;00m\u001b[38;5;130;01m\\n\u001b[39;00m\u001b[38;5;132;01m{\u001b[39;00msep\u001b[38;5;132;01m}\u001b[39;00m\u001b[38;5;130;01m\\n\u001b[39;00m\u001b[33m\"\u001b[39m\n\u001b[32m--> \u001b[39m\u001b[32m579\u001b[39m \u001b[38;5;28;01mraise\u001b[39;00m \u001b[38;5;167;01mLookupError\u001b[39;00m(resource_not_found)\n",
      "\u001b[31mLookupError\u001b[39m: \n**********************************************************************\n  Resource \u001b[93mpunkt_tab\u001b[0m not found.\n  Please use the NLTK Downloader to obtain the resource:\n\n  \u001b[31m>>> import nltk\n  >>> nltk.download('punkt_tab')\n  \u001b[0m\n  For more information see: https://www.nltk.org/data.html\n\n  Attempted to load \u001b[93mtokenizers/punkt_tab/polish/\u001b[0m\n\n  Searched in:\n    - 'C:\\\\Users\\\\marek/nltk_data'\n    - 'c:\\\\Users\\\\marek\\\\Desktop\\\\knowledge-graph-llm-new-main\\\\.venv\\\\nltk_data'\n    - 'c:\\\\Users\\\\marek\\\\Desktop\\\\knowledge-graph-llm-new-main\\\\.venv\\\\share\\\\nltk_data'\n    - 'c:\\\\Users\\\\marek\\\\Desktop\\\\knowledge-graph-llm-new-main\\\\.venv\\\\lib\\\\nltk_data'\n    - 'C:\\\\Users\\\\marek\\\\AppData\\\\Roaming\\\\nltk_data'\n    - 'C:\\\\nltk_data'\n    - 'D:\\\\nltk_data'\n    - 'E:\\\\nltk_data'\n**********************************************************************\n"
     ]
    }
   ],
   "source": [
    "for key in documents:\n",
    "    documents[key] = documents[key].lower()\n",
    "    documents[key] = \"\".join([char for char in documents[key] if char not in string.punctuation])\n",
    "    documents[key] = lemmatize(documents[key])\n",
    "    documents[key] = \" \".join([word for word in word_tokenize(documents[key], language='polish') if word not in stoplist])\n",
    "print(json.dumps(documents, indent=4, ensure_ascii=False))"
   ]
  },
  {
   "cell_type": "markdown",
   "metadata": {},
   "source": [
    "3. Utworzenie macierzy częstości"
   ]
  },
  {
   "cell_type": "code",
   "execution_count": null,
   "metadata": {},
   "outputs": [],
   "source": [
    "docs = pd.DataFrame.from_dict(documents, orient='index')\n",
    "docs.columns = ['content']\n",
    "docs"
   ]
  },
  {
   "cell_type": "code",
   "execution_count": null,
   "metadata": {},
   "outputs": [],
   "source": [
    "count_vectorizer = CountVectorizer()\n",
    "counts_tf = count_vectorizer.fit_transform(docs['content'])\n",
    "counts_tf.toarray()"
   ]
  },
  {
   "cell_type": "code",
   "execution_count": null,
   "metadata": {},
   "outputs": [],
   "source": [
    "tfidf_vectorizer = TfidfVectorizer()\n",
    "counts_tfidf = tfidf_vectorizer.fit_transform(docs['content'])\n",
    "counts_tfidf.toarray()"
   ]
  },
  {
   "cell_type": "markdown",
   "metadata": {},
   "source": [
    "4. Chmury tagów"
   ]
  },
  {
   "cell_type": "code",
   "execution_count": null,
   "metadata": {},
   "outputs": [],
   "source": [
    "wordcloud = WordCloud(\n",
    "    background_color='white',\n",
    "    max_words=5000,\n",
    "    contour_width=3,\n",
    "    contour_color='steelblue'\n",
    ")\n",
    "if not os.path.exists(\"./chmury\"):\n",
    "    os.mkdir(\"./chmury\")\n",
    "for index, row in docs.iterrows():\n",
    "    wordcloud.generate(row['content'])\n",
    "    plt.imshow(wordcloud)\n",
    "    plt.axis('off')\n",
    "    plt.title(index.replace(\".txt\", \"\"))\n",
    "    plt.savefig(\"./chmury/{}\".format(index.replace(\".txt\", \".png\")))\n"
   ]
  },
  {
   "cell_type": "markdown",
   "metadata": {},
   "source": [
    "5. Topic modelling"
   ]
  },
  {
   "cell_type": "code",
   "execution_count": null,
   "metadata": {},
   "outputs": [],
   "source": [
    "if not os.path.exists(\"./tematy\"):\n",
    "    os.mkdir(\"./tematy\")\n",
    "def plot_top_words(model, feature_names, n_top_words, title, subplots):\n",
    "    fig, axes = plt.subplots(*subplots, figsize=(30, 15), sharex=True)\n",
    "    axes = axes.flatten()\n",
    "    for topic_idx, topic in enumerate(model.components_):\n",
    "        top_features_ind = topic.argsort()[-n_top_words:]\n",
    "        top_features = feature_names[top_features_ind]\n",
    "        weights = topic[top_features_ind]\n",
    "\n",
    "        ax = axes[topic_idx]\n",
    "        ax.barh(top_features, weights, height=0.7)\n",
    "        ax.set_title(f\"Topic {topic_idx +1}\", fontdict={\"fontsize\": 30})\n",
    "        ax.tick_params(axis=\"both\", which=\"major\", labelsize=20)\n",
    "        for i in \"top right left\".split():\n",
    "            ax.spines[i].set_visible(False)\n",
    "        fig.suptitle(title, fontsize=40)\n",
    "\n",
    "    plt.subplots_adjust(top=0.90, bottom=0.05, wspace=0.90, hspace=0.3)\n",
    "    plt.savefig(f\"./tematy/{title}.png\")\n",
    "    plt.close()"
   ]
  },
  {
   "cell_type": "code",
   "execution_count": null,
   "metadata": {},
   "outputs": [],
   "source": [
    "def plot_documents(model, counts, files_names, n_components, title):\n",
    "  colors = ['forestgreen', 'lightskyblue', 'hotpink', 'turquoise', 'steelblue', 'crimson', 'seagreen', 'orange']\n",
    "  docs_topics = pd.DataFrame(model.transform(counts), columns=[f\"Topic {x}\" for x in range(n_components)])\n",
    "  docs_topics.index = [file_name.replace(\".txt\", \"\") for file_name in files_names]\n",
    "  plt.figure(figsize=(7,4))\n",
    "  left = [0] * len(docs_topics)\n",
    "  for i, col in enumerate(docs_topics.columns):\n",
    "    plt.barh(docs_topics.index, docs_topics[col], left=left, label=col, color = colors[i])\n",
    "    left = [left[j]+docs_topics[col].iloc[j] for j in range(len(docs_topics))]\n",
    "  plt.savefig(f\"./tematy/{title}_docs.png\")\n",
    "  plt.close()"
   ]
  },
  {
   "cell_type": "code",
   "execution_count": null,
   "metadata": {},
   "outputs": [],
   "source": [
    "n_components = 3\n",
    "feature_names = count_vectorizer.get_feature_names_out()\n",
    "n_top_words = 20\n",
    "subplots = (1,3)"
   ]
  },
  {
   "cell_type": "code",
   "execution_count": null,
   "metadata": {},
   "outputs": [],
   "source": [
    "lda = LatentDirichletAllocation(\n",
    "    n_components=n_components,\n",
    "    max_iter=5,\n",
    "    learning_method='online',\n",
    "    learning_offset=50,\n",
    "    random_state=0\n",
    ")\n",
    "lda.fit(counts_tf)\n",
    "plot_top_words(lda, feature_names, n_top_words, \"Tematy w modelu LDA\", subplots)\n",
    "plot_documents(lda, counts_tf, files, n_components, \"Tematy w modelu LDA\")"
   ]
  },
  {
   "cell_type": "code",
   "execution_count": null,
   "metadata": {},
   "outputs": [],
   "source": [
    "nmf_fn = NMF(\n",
    "    n_components=n_components,\n",
    "    random_state=1,\n",
    "    alpha_H=.00005,\n",
    "    alpha_W=.00005,\n",
    "    l1_ratio=.5\n",
    ")\n",
    "nmf_fn.fit(counts_tfidf)\n",
    "plot_top_words(nmf_fn, feature_names, n_top_words, \"Tematy w modelu NMF (FN)\", subplots)\n",
    "plot_documents(nmf_fn, counts_tfidf, files, n_components, \"Tematy w modelu NMF (FN)\")"
   ]
  },
  {
   "cell_type": "code",
   "execution_count": null,
   "metadata": {},
   "outputs": [],
   "source": [
    "nmf_kl = NMF(\n",
    "    n_components=n_components,\n",
    "    random_state=1,\n",
    "    beta_loss='kullback-leibler',\n",
    "    solver='mu',\n",
    "    max_iter=1000,\n",
    "    alpha_H=.00005,\n",
    "    alpha_W=.00005,\n",
    "    l1_ratio=.5\n",
    ")\n",
    "nmf_kl.fit(counts_tfidf)\n",
    "plot_top_words(nmf_kl, feature_names, n_top_words, \"Tematy w modelu NMF (KL)\", subplots)\n",
    "plot_documents(nmf_kl, counts_tfidf, files, n_components, \"Tematy w modelu NMF (KL)\")"
   ]
  },
  {
   "cell_type": "markdown",
   "metadata": {},
   "source": [
    "6. Analiza skupień"
   ]
  },
  {
   "cell_type": "code",
   "execution_count": null,
   "metadata": {},
   "outputs": [],
   "source": [
    "def plot_dendrogram(model, **kwargs):\n",
    "    counts = np.zeros(model.children_.shape[0])\n",
    "    n_samples = len(model.labels_)\n",
    "    for i, merge in enumerate(model.children_):\n",
    "        current_count = 0\n",
    "        for child_idx in merge:\n",
    "            if child_idx < n_samples:\n",
    "                current_count += 1  # leaf node\n",
    "            else:\n",
    "                current_count += counts[child_idx - n_samples]\n",
    "        counts[i] = current_count\n",
    "    linkage_matrix = np.column_stack(\n",
    "        [model.children_, model.distances_, counts]\n",
    "    ).astype(float)\n",
    "    dendrogram(linkage_matrix, **kwargs)"
   ]
  },
  {
   "cell_type": "code",
   "execution_count": null,
   "metadata": {},
   "outputs": [],
   "source": [
    "if not os.path.exists(\"./skupienia\"):\n",
    "    os.mkdir(\"./skupienia\")\n",
    "colors = ['forestgreen', 'lightskyblue', 'hotpink', 'turquoise', 'steelblue', 'crimson', 'seagreen', 'orange']"
   ]
  },
  {
   "cell_type": "code",
   "execution_count": null,
   "metadata": {},
   "outputs": [],
   "source": [
    "cs = cosine_similarity(counts_tfidf, counts_tfidf).flatten().reshape(20,20)\n",
    "cs"
   ]
  },
  {
   "cell_type": "code",
   "execution_count": null,
   "metadata": {},
   "outputs": [],
   "source": [
    "clustering = AgglomerativeClustering(\n",
    "    n_clusters=6,\n",
    "    metric=\"euclidean\",\n",
    "    linkage=\"ward\",\n",
    "    compute_distances=True\n",
    ").fit(cs)\n",
    "clustering.labels_"
   ]
  },
  {
   "cell_type": "code",
   "execution_count": null,
   "metadata": {},
   "outputs": [],
   "source": [
    "plot_dendrogram(\n",
    "    clustering,\n",
    "    labels = files,\n",
    "    truncate_mode = 'level',\n",
    "    orientation = 'right',\n",
    ")\n",
    "plt.savefig(\"./skupienia/cosine_ward.png\")\n",
    "plt.close()"
   ]
  },
  {
   "cell_type": "code",
   "execution_count": null,
   "metadata": {},
   "outputs": [],
   "source": [
    "ed = euclidean_distances(counts_tf, counts_tf).flatten().reshape(20,20)\n",
    "ed"
   ]
  },
  {
   "cell_type": "code",
   "execution_count": null,
   "metadata": {},
   "outputs": [],
   "source": [
    "clustering = AgglomerativeClustering(\n",
    "    n_clusters=6,\n",
    "    metric=\"precomputed\",\n",
    "    linkage=\"complete\",\n",
    "    compute_distances=True\n",
    ").fit(ed)\n",
    "clustering.labels_"
   ]
  },
  {
   "cell_type": "code",
   "execution_count": null,
   "metadata": {},
   "outputs": [],
   "source": [
    "plot_dendrogram(\n",
    "    clustering,\n",
    "    labels = files,\n",
    "    truncate_mode = 'level',\n",
    "    orientation = 'right',\n",
    ")\n",
    "plt.savefig(\"./skupienia/euclidean_complete.png\")\n",
    "plt.close()"
   ]
  },
  {
   "cell_type": "markdown",
   "metadata": {},
   "source": [
    "7. N-gramy"
   ]
  },
  {
   "cell_type": "code",
   "execution_count": null,
   "metadata": {},
   "outputs": [],
   "source": [
    "documents_tokenized = {}\n",
    "for key in documents:\n",
    "    documents_tokenized[key] = word_tokenize(documents[key], language='polish')\n",
    "print(json.dumps(documents_tokenized, indent=4, ensure_ascii=False))"
   ]
  },
  {
   "cell_type": "code",
   "execution_count": null,
   "metadata": {},
   "outputs": [],
   "source": [
    "if not os.path.exists(\"./ngramy\"):\n",
    "    os.mkdir(\"./ngramy\")\n",
    "n_count = 3\n",
    "if not os.path.exists(f\"./ngramy/{n_count}\"):\n",
    "    os.mkdir(f\"./ngramy/{n_count}\")\n",
    "for title in documents_tokenized:\n",
    "    n_gram = pd.Series(ngrams(documents_tokenized[title], n_count)).value_counts()\n",
    "    n_gram[:5].plot.barh()\n",
    "    plt.savefig(f\"./ngramy/{n_count}/{title.replace('.txt', '.png')}\")\n",
    "    plt.close()"
   ]
  },
  {
   "cell_type": "code",
   "execution_count": null,
   "metadata": {},
   "outputs": [],
   "source": [
    "texts = \" \".join(docs['content']).split(\" \")\n",
    "n_gram = pd.Series(ngrams(texts, 3)).value_counts()\n",
    "n_gram[:15].plot.barh()\n",
    "plt.gcf().subplots_adjust(left=0.4)\n",
    "plt.savefig(\"./ngramy/all.png\")\n",
    "plt.close()"
   ]
  }
 ],
 "metadata": {
  "kernelspec": {
   "display_name": ".venv",
   "language": "python",
   "name": "python3"
  },
  "language_info": {
   "codemirror_mode": {
    "name": "ipython",
    "version": 3
   },
   "file_extension": ".py",
   "mimetype": "text/x-python",
   "name": "python",
   "nbconvert_exporter": "python",
   "pygments_lexer": "ipython3",
   "version": "3.11.0"
  }
 },
 "nbformat": 4,
 "nbformat_minor": 2
}
